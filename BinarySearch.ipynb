{
 "cells": [
  {
   "cell_type": "code",
   "execution_count": 2,
   "metadata": {},
   "outputs": [],
   "source": [
    "'''\n",
    "#35 Search insert position\n",
    "Given a sorted array and a target value, return the index if the target is found. \n",
    "If not, return the index where it would be if it were inserted in order.\n",
    "'''"
   ]
  },
  {
   "cell_type": "code",
   "execution_count": 6,
   "metadata": {
    "collapsed": true
   },
   "outputs": [],
   "source": [
    "class Solution:\n",
    "    def searchInsert(self, nums, target):\n",
    "        i, j=0, len(nums)-1\n",
    "        while i<=j:\n",
    "            if target>nums[j]:\n",
    "                return j+1\n",
    "                \n",
    "            elif target<nums[i]:\n",
    "                return i\n",
    "            else:\n",
    "                mid=(j+i)//2\n",
    "                if target==nums[mid]:\n",
    "                    return mid\n",
    "                elif target<nums[mid]:\n",
    "                    j=mid-1\n",
    "                elif target>nums[mid]:\n",
    "                    i=mid+1"
   ]
  },
  {
   "cell_type": "code",
   "execution_count": 7,
   "metadata": {},
   "outputs": [
    {
     "data": {
      "text/plain": [
       "4"
      ]
     },
     "execution_count": 7,
     "metadata": {},
     "output_type": "execute_result"
    }
   ],
   "source": [
    "Solution().searchInsert([1,3,5,6], 7)"
   ]
  },
  {
   "cell_type": "code",
   "execution_count": 8,
   "metadata": {},
   "outputs": [
    {
     "data": {
      "text/plain": [
       "1"
      ]
     },
     "execution_count": 8,
     "metadata": {},
     "output_type": "execute_result"
    }
   ],
   "source": [
    "Solution().searchInsert([1,3,5,6], 2) "
   ]
  },
  {
   "cell_type": "code",
   "execution_count": null,
   "metadata": {
    "collapsed": true
   },
   "outputs": [],
   "source": [
    "'''\n",
    "74. Search a 2D Matrix\n",
    "Write an efficient algorithm that searches for a value in an m x n matrix. This matrix has the following properties:\n",
    "Integers in each row are sorted from left to right.\n",
    "The first integer of each row is greater than the last integer of the previous row.\n",
    "'''"
   ]
  },
  {
   "cell_type": "code",
   "execution_count": 16,
   "metadata": {
    "collapsed": true
   },
   "outputs": [],
   "source": [
    "class Solution:\n",
    "    def searchMatrix(self, matrix, target):   #treat 2D as 1D\n",
    "        \"\"\"\n",
    "        :type matrix: List[List[int]]\n",
    "        :type target: int\n",
    "        :rtype: bool\n",
    "        \"\"\"\n",
    "        if (not matrix) or (not matrix[0]):\n",
    "            return False\n",
    "        a, b=len(matrix), len(matrix[0])\n",
    "        i, j=0, a*b-1\n",
    "        while i<=j:\n",
    "            m=(i+j)//2\n",
    "            if target==matrix[m//b][m%b]:   #m//b, m%b is the key for 2D-to-1D conversion!!\n",
    "                return True\n",
    "            elif target>matrix[m//b][m%b]:\n",
    "                i=m+1\n",
    "            else:\n",
    "                j=m-1\n",
    "        return False"
   ]
  },
  {
   "cell_type": "code",
   "execution_count": 17,
   "metadata": {},
   "outputs": [
    {
     "data": {
      "text/plain": [
       "True"
      ]
     },
     "execution_count": 17,
     "metadata": {},
     "output_type": "execute_result"
    }
   ],
   "source": [
    "Solution().searchMatrix(matrix=[[1,   3,  5,  7], [10, 11, 16, 20], [23, 30, 34, 50]], target=3)"
   ]
  },
  {
   "cell_type": "code",
   "execution_count": 19,
   "metadata": {},
   "outputs": [
    {
     "data": {
      "text/plain": [
       "False"
      ]
     },
     "execution_count": 19,
     "metadata": {},
     "output_type": "execute_result"
    }
   ],
   "source": [
    "Solution().searchMatrix([[1,   3,  5,  7],\n",
    "                         [10, 11, 16, 20],\n",
    "                         [23, 30, 34, 50]], \n",
    "                        target=13)"
   ]
  },
  {
   "cell_type": "code",
   "execution_count": null,
   "metadata": {
    "collapsed": true
   },
   "outputs": [],
   "source": [
    "'''\n",
    "162. Find Peak Element\n",
    "A peak element is an element that is greater than its neighbors.\n",
    "Given an input array nums, where nums[i] ≠ nums[i+1], find a peak element and return its index.\n",
    "The array may contain multiple peaks, in that case return the index to any one of the peaks is fine.\n",
    "You may imagine that nums[-1] = nums[n] = -∞.\n",
    "'''"
   ]
  },
  {
   "cell_type": "code",
   "execution_count": 20,
   "metadata": {
    "collapsed": true
   },
   "outputs": [],
   "source": [
    "class Solution:\n",
    "    def findPeakElement(self, nums):\n",
    "        \"\"\"\n",
    "        :type nums: List[int]\n",
    "        :rtype: int\n",
    "        \"\"\"\n",
    "        if len(nums)==1:\n",
    "            return 0\n",
    "        #2 corner cases (including when length=2):\n",
    "        elif nums[0]>nums[1]:\n",
    "            return 0\n",
    "        elif nums[-1]>nums[-2]:\n",
    "            return len(nums)-1\n",
    "        \n",
    "        #rest of cases:\n",
    "        else:\n",
    "            i, j=0, len(nums)-1\n",
    "            while 0<=i<len(nums)-1 and 0<j<len(nums):\n",
    "                mid=(i+j)//2\n",
    "                if nums[mid]>nums[mid-1] and nums[mid]>nums[mid+1]:\n",
    "                    return mid\n",
    "                elif nums[mid]<nums[mid+1]:\n",
    "                    i=mid\n",
    "                    j=mid+2\n",
    "                elif nums[mid]<nums[mid-1]:\n",
    "                    i=mid-2\n",
    "                    j=mid"
   ]
  },
  {
   "cell_type": "code",
   "execution_count": 22,
   "metadata": {},
   "outputs": [
    {
     "data": {
      "text/plain": [
       "5"
      ]
     },
     "execution_count": 22,
     "metadata": {},
     "output_type": "execute_result"
    }
   ],
   "source": [
    "Solution().findPeakElement([1,2,1,3,5,6,4])"
   ]
  },
  {
   "cell_type": "code",
   "execution_count": 23,
   "metadata": {},
   "outputs": [
    {
     "data": {
      "text/plain": [
       "2"
      ]
     },
     "execution_count": 23,
     "metadata": {},
     "output_type": "execute_result"
    }
   ],
   "source": [
    "Solution().findPeakElement([1,2,3,1,0,0])"
   ]
  },
  {
   "cell_type": "code",
   "execution_count": null,
   "metadata": {
    "collapsed": true
   },
   "outputs": [],
   "source": [
    "'''\n",
    "#704 Binary search\n",
    "Given a sorted (in ascending order) integer array nums of n elements and a target value, \n",
    "write a function to search target in nums. If target exists, then return its index, otherwise return -1.\n",
    "'''"
   ]
  },
  {
   "cell_type": "code",
   "execution_count": 24,
   "metadata": {
    "collapsed": true
   },
   "outputs": [],
   "source": [
    "class Solution:\n",
    "    def search(self, nums, target):\n",
    "        \"\"\"\n",
    "        :type nums: List[int]\n",
    "        :type target: int\n",
    "        :rtype: int\n",
    "        \"\"\"\n",
    "        i, j=0, len(nums)-1\n",
    "        while i<=j:\n",
    "            mid=(i+j)//2\n",
    "            if target==nums[mid]:\n",
    "                return mid\n",
    "            elif target>nums[mid]:\n",
    "                i=mid+1\n",
    "            else:\n",
    "                j=mid-1\n",
    "        return -1"
   ]
  },
  {
   "cell_type": "code",
   "execution_count": 25,
   "metadata": {},
   "outputs": [
    {
     "data": {
      "text/plain": [
       "4"
      ]
     },
     "execution_count": 25,
     "metadata": {},
     "output_type": "execute_result"
    }
   ],
   "source": [
    "Solution().search([-1,0,3,5,9,12], 9)"
   ]
  },
  {
   "cell_type": "code",
   "execution_count": null,
   "metadata": {
    "collapsed": true
   },
   "outputs": [],
   "source": [
    "'''\n",
    "#744. Find Smallest Letter Greater Than Target\n",
    "Given a list of sorted characters letters containing only lowercase letters, and given a target letter target, \n",
    "find the smallest element in the list that is larger than the given target.\n",
    "Letters also wrap around. For example, if the target is target = 'z' and letters = ['a', 'b'], the answer is 'a'.\n",
    "'''"
   ]
  },
  {
   "cell_type": "code",
   "execution_count": 27,
   "metadata": {
    "collapsed": true
   },
   "outputs": [],
   "source": [
    "class Solution:\n",
    "    def nextGreatestLetter(self, letters, target):\n",
    "        \"\"\"\n",
    "        :type letters: List[str]\n",
    "        :type target: str\n",
    "        :rtype: str\n",
    "        \"\"\"\n",
    "        if target<letters[0] or target>letters[-1] or target==letters[-1]:\n",
    "            return letters[0]        \n",
    "\n",
    "        i, j=0, len(letters)-1\n",
    "        while i<=j:\n",
    "            mid=(i+j)//2\n",
    "            if target<letters[mid] and target>letters[mid-1]:\n",
    "                return letters[mid]\n",
    "            elif (target>letters[mid] or target==letters[mid]) and target<letters[mid+1]:\n",
    "                return letters[mid+1]\n",
    "            else:\n",
    "                if target<letters[mid]:\n",
    "                    j=mid\n",
    "                else:\n",
    "                    i=mid        "
   ]
  },
  {
   "cell_type": "code",
   "execution_count": 28,
   "metadata": {},
   "outputs": [
    {
     "data": {
      "text/plain": [
       "'f'"
      ]
     },
     "execution_count": 28,
     "metadata": {},
     "output_type": "execute_result"
    }
   ],
   "source": [
    "Solution().nextGreatestLetter([\"c\", \"f\", \"j\"], 'c')"
   ]
  },
  {
   "cell_type": "code",
   "execution_count": 29,
   "metadata": {},
   "outputs": [
    {
     "data": {
      "text/plain": [
       "'j'"
      ]
     },
     "execution_count": 29,
     "metadata": {},
     "output_type": "execute_result"
    }
   ],
   "source": [
    "Solution().nextGreatestLetter([\"c\", \"f\", \"j\"], 'g')"
   ]
  },
  {
   "cell_type": "code",
   "execution_count": 30,
   "metadata": {},
   "outputs": [
    {
     "data": {
      "text/plain": [
       "'c'"
      ]
     },
     "execution_count": 30,
     "metadata": {},
     "output_type": "execute_result"
    }
   ],
   "source": [
    "Solution().nextGreatestLetter([\"c\", \"f\", \"j\"], 'a')"
   ]
  },
  {
   "cell_type": "code",
   "execution_count": null,
   "metadata": {
    "collapsed": true
   },
   "outputs": [],
   "source": [
    "'''\n",
    "#852. Peak Index in a Mountain Array\n",
    "Let's call an array A a mountain if the following properties hold:\n",
    "A.length >= 3\n",
    "There exists some 0 < i < A.length - 1 such that A[0] < A[1] < ... A[i-1] < A[i] > A[i+1] > ... > A[A.length - 1]\n",
    "Given an array that is definitely a mountain, return any i that A[0] < A[1] < ... A[i-1] < A[i] > A[i+1] > ... > A[A.length - 1].\n",
    "'''"
   ]
  },
  {
   "cell_type": "code",
   "execution_count": 36,
   "metadata": {
    "collapsed": true
   },
   "outputs": [],
   "source": [
    "class Solution:\n",
    "    def peakIndexInMountainArray(self, A):\n",
    "        \"\"\"\n",
    "        :type A: List[int]\n",
    "        :rtype: int\n",
    "        \"\"\"\n",
    "        i, j=0, len(A)-1\n",
    "        while i<=j:\n",
    "            mid=(i+j)//2\n",
    "            if A[mid-1]<A[mid] and A[mid]>A[mid+1]:\n",
    "                return mid\n",
    "            elif A[mid-1]<A[mid] and A[mid]<A[mid+1]:\n",
    "                i=mid\n",
    "            elif A[mid-1]>A[mid] and A[mid]>A[mid+1]:\n",
    "                j=mid"
   ]
  },
  {
   "cell_type": "code",
   "execution_count": 37,
   "metadata": {},
   "outputs": [
    {
     "data": {
      "text/plain": [
       "1"
      ]
     },
     "execution_count": 37,
     "metadata": {},
     "output_type": "execute_result"
    }
   ],
   "source": [
    "Solution().peakIndexInMountainArray([0,2,1,0,0,-2])"
   ]
  }
 ],
 "metadata": {
  "kernelspec": {
   "display_name": "Python 3",
   "language": "python",
   "name": "python3"
  },
  "language_info": {
   "codemirror_mode": {
    "name": "ipython",
    "version": 3
   },
   "file_extension": ".py",
   "mimetype": "text/x-python",
   "name": "python",
   "nbconvert_exporter": "python",
   "pygments_lexer": "ipython3",
   "version": "3.6.3"
  }
 },
 "nbformat": 4,
 "nbformat_minor": 2
}
