{
 "cells": [
  {
   "cell_type": "code",
   "execution_count": null,
   "metadata": {
    "collapsed": true
   },
   "outputs": [],
   "source": [
    "'''\n",
    "#624. Maximum Distance in Arrays\n",
    "DescriptionHintsSubmissionsDiscussSolution\n",
    "Given m arrays, and each array is sorted in ascending order. Now you can pick up two integers from two different \n",
    "arrays (each array picks one) and calculate the distance. We define the distance between two integers a and b to be \n",
    "their absolute difference |a-b|. Your task is to find the maximum distance.\n",
    "'''"
   ]
  },
  {
   "cell_type": "code",
   "execution_count": 2,
   "metadata": {
    "collapsed": true
   },
   "outputs": [],
   "source": [
    "class Solution(object):\n",
    "    def maxDistance(self, arrays):\n",
    "        \"\"\"\n",
    "        :type arrays: List[List[int]]\n",
    "        :rtype: int\n",
    "        \"\"\"\n",
    "        s, b, dis=float('inf'), -float('inf'), -float('inf')\n",
    "        for i in range(len(arrays)):\n",
    "            dis=max(dis, arrays[i][-1]-s, b-arrays[i][0])\n",
    "            s=min(s, arrays[i][0])\n",
    "            b=max(b, arrays[i][-1])\n",
    "        return dis"
   ]
  },
  {
   "cell_type": "code",
   "execution_count": 3,
   "metadata": {},
   "outputs": [
    {
     "data": {
      "text/plain": [
       "4"
      ]
     },
     "execution_count": 3,
     "metadata": {},
     "output_type": "execute_result"
    }
   ],
   "source": [
    "Solution().maxDistance([[1,2,3],\n",
    "                        [4,5],\n",
    "                        [1,2,3]])\n",
    "#max distance is 1 to 5, which is 4; "
   ]
  },
  {
   "cell_type": "code",
   "execution_count": null,
   "metadata": {
    "collapsed": true
   },
   "outputs": [],
   "source": [
    "'''\n",
    "349. Intersection of Two Arrays\n",
    "Given two arrays, write a function to compute their intersection.\n",
    "'''"
   ]
  },
  {
   "cell_type": "code",
   "execution_count": 4,
   "metadata": {
    "collapsed": true
   },
   "outputs": [],
   "source": [
    "class Solution:\n",
    "    def intersection(self, nums1, nums2):\n",
    "        \"\"\"\n",
    "        :type nums1: List[int]\n",
    "        :type nums2: List[int]\n",
    "        :rtype: List[int]\n",
    "        \"\"\"\n",
    "        dic1={}\n",
    "        result=[]\n",
    "        for i in nums1:\n",
    "            dic1[i]=dic1[i]+1 if i in dic1 else 1\n",
    "        \n",
    "        for j in nums2:\n",
    "            if j in dic1 and dic1[j]>0:\n",
    "                result.append(j)\n",
    "                dic1[j]=0\n",
    "        return result"
   ]
  },
  {
   "cell_type": "code",
   "execution_count": 5,
   "metadata": {},
   "outputs": [
    {
     "data": {
      "text/plain": [
       "[9, 4]"
      ]
     },
     "execution_count": 5,
     "metadata": {},
     "output_type": "execute_result"
    }
   ],
   "source": [
    "Solution().intersection([4,9,5], [9,4,9,8,4])"
   ]
  },
  {
   "cell_type": "code",
   "execution_count": 6,
   "metadata": {},
   "outputs": [
    {
     "data": {
      "text/plain": [
       "[2]"
      ]
     },
     "execution_count": 6,
     "metadata": {},
     "output_type": "execute_result"
    }
   ],
   "source": [
    "Solution().intersection([1,2,2,1], [2,2])"
   ]
  },
  {
   "cell_type": "code",
   "execution_count": null,
   "metadata": {
    "collapsed": true
   },
   "outputs": [],
   "source": [
    "'''\n",
    "594. Longest Harmonious Subsequence\n",
    "DescriptionHintsSubmissionsDiscussSolution\n",
    "We define a harmonious array is an array where the difference between its maximum value and its minimum value is exactly 1.\n",
    "\n",
    "Now, given an integer array, you need to find the length of its longest harmonious subsequence among all its possible \n",
    "subsequences.\n",
    "'''"
   ]
  },
  {
   "cell_type": "code",
   "execution_count": 9,
   "metadata": {
    "collapsed": true
   },
   "outputs": [],
   "source": [
    "class Solution:\n",
    "    def findLHS(self, nums):\n",
    "        \"\"\"\n",
    "        :type nums: List[int]\n",
    "        :rtype: int\n",
    "        \"\"\"\n",
    "        import collections\n",
    "        dic=collections.Counter(nums)\n",
    "        return max([j+dic.get(i+1) for i, j in dic.items() if dic.get(i+1)] or [0])"
   ]
  },
  {
   "cell_type": "code",
   "execution_count": 11,
   "metadata": {},
   "outputs": [
    {
     "data": {
      "text/plain": [
       "5"
      ]
     },
     "execution_count": 11,
     "metadata": {},
     "output_type": "execute_result"
    }
   ],
   "source": [
    "Solution().findLHS([1,3,2,2,5,2,3,7])\n",
    "#The longest harmonious subsequence is [3,2,2,2,3]."
   ]
  },
  {
   "cell_type": "code",
   "execution_count": null,
   "metadata": {
    "collapsed": true
   },
   "outputs": [],
   "source": [
    "'''\n",
    "#500. Keyboard Row\n",
    "DescriptionHintsSubmissionsDiscussSolution\n",
    "Given a List of words, return the words that can be typed using letters of alphabet on only one row's of American \n",
    "keyboard like the image below.\n",
    "'''"
   ]
  },
  {
   "cell_type": "code",
   "execution_count": 13,
   "metadata": {
    "collapsed": true
   },
   "outputs": [],
   "source": [
    "class Solution:\n",
    "    def findWords(self, words):\n",
    "        \"\"\"\n",
    "        :type words: List[str]\n",
    "        :rtype: List[str]\n",
    "        \"\"\"\n",
    "        group1, group2, group3=set('qwertyuiop'), set('asdfghjkl'), set('zxcvbnm')\n",
    "        result=[]\n",
    "        for w in words:\n",
    "            w1=set(w.lower())\n",
    "            if w1.issubset(group1) or w1.issubset(group2) or w1.issubset(group3):\n",
    "                result.append(w)\n",
    "        return result"
   ]
  },
  {
   "cell_type": "code",
   "execution_count": 14,
   "metadata": {},
   "outputs": [
    {
     "data": {
      "text/plain": [
       "['Alaska', 'Dad']"
      ]
     },
     "execution_count": 14,
     "metadata": {},
     "output_type": "execute_result"
    }
   ],
   "source": [
    "Solution().findWords([\"Hello\", \"Alaska\", \"Dad\", \"Peace\"])"
   ]
  },
  {
   "cell_type": "code",
   "execution_count": null,
   "metadata": {
    "collapsed": true
   },
   "outputs": [],
   "source": [
    "'''\n",
    "463. Island Perimeter\n",
    "DescriptionHintsSubmissionsDiscussSolution\n",
    "You are given a map in form of a two-dimensional integer grid where 1 represents land and 0 represents water.\n",
    "Grid cells are connected horizontally/vertically (not diagonally). The grid is completely surrounded by water, \n",
    "and there is exactly one island (i.e., one or more connected land cells).\n",
    "The island doesn't have \"lakes\" (water inside that isn't connected to the water around the island). One cell is \n",
    "a square with side length 1. The grid is rectangular, width and height don't exceed 100. Determine the perimeter of the island.\n",
    "'''"
   ]
  },
  {
   "cell_type": "code",
   "execution_count": 16,
   "metadata": {
    "collapsed": true
   },
   "outputs": [],
   "source": [
    "class Solution:\n",
    "    def islandPerimeter(self, grid):\n",
    "        \"\"\"\n",
    "        :type grid: List[List[int]]\n",
    "        :rtype: int\n",
    "        \"\"\"\n",
    "        s=0\n",
    "        d=0\n",
    "        #total\n",
    "        for i in grid:\n",
    "            s+=sum(i)\n",
    "        #neighboring\n",
    "        for i in grid:\n",
    "            for j in range(len(i)-1):\n",
    "                if i[j]==1 and i[j+1]==1:\n",
    "                    d+=2\n",
    "\n",
    "        for k in range(len(grid[0])):\n",
    "            for m in range(len(grid)-1):\n",
    "                if grid[m][k]==1 and grid[m+1][k]==1:\n",
    "                    d+=2    \n",
    "        return s*4-d"
   ]
  },
  {
   "cell_type": "code",
   "execution_count": 17,
   "metadata": {},
   "outputs": [
    {
     "data": {
      "text/plain": [
       "16"
      ]
     },
     "execution_count": 17,
     "metadata": {},
     "output_type": "execute_result"
    }
   ],
   "source": [
    "Solution().islandPerimeter([[0,1,0,0],\n",
    "                            [1,1,1,0],\n",
    "                            [0,1,0,0],\n",
    "                            [1,1,0,0]])"
   ]
  },
  {
   "cell_type": "code",
   "execution_count": null,
   "metadata": {
    "collapsed": true
   },
   "outputs": [],
   "source": [
    "'''\n",
    "734. Sentence Similarity\n",
    "Given two sentences words1, words2 (each represented as an array of strings), and a list of similar word pairs pairs, \n",
    "determine if two sentences are similar.\n",
    "\n",
    "For example, \"great acting skills\" and \"fine drama talent\" are similar, if the similar word pairs \n",
    "are pairs = [[\"great\", \"fine\"], [\"acting\",\"drama\"], [\"skills\",\"talent\"]].\n",
    "\n",
    "Note that the similarity relation is not transitive. For example, if \"great\" and \"fine\" are similar, \n",
    "and \"fine\" and \"good\" are similar, \"great\" and \"good\" are not necessarily similar.\n",
    "\n",
    "However, similarity is symmetric. For example, \"great\" and \"fine\" being similar is the same \n",
    "as \"fine\" and \"great\" being similar.\n",
    "\n",
    "Also, a word is always similar with itself. For example, the sentences words1 = [\"great\"], \n",
    "words2 = [\"great\"], pairs = [] are similar, even though there are no specified similar word pairs.\n",
    "\n",
    "Finally, sentences can only be similar if they have the same number of words. So a sentence like \n",
    "words1 = [\"great\"] can never be similar to words2 = [\"doubleplus\",\"good\"].\n",
    "'''"
   ]
  },
  {
   "cell_type": "code",
   "execution_count": 18,
   "metadata": {
    "collapsed": true
   },
   "outputs": [],
   "source": [
    "class Solution(object):\n",
    "    def areSentencesSimilar(self, words1, words2, pairs):\n",
    "        \"\"\"\n",
    "        :type words1: List[str]\n",
    "        :type words2: List[str]\n",
    "        :type pairs: List[List[str]]\n",
    "        :rtype: bool\n",
    "        \"\"\"\n",
    "        if len(words1)!=len(words2):\n",
    "            return False\n",
    "        elif not words1 and not words2:\n",
    "            return True\n",
    "        else:\n",
    "            dic={}\n",
    "            for p in pairs:\n",
    "                dic[tuple(p)]=1\n",
    "            words=list(zip(words1, words2))\n",
    "            i=0\n",
    "            while i<len(words):\n",
    "                w=words[i]\n",
    "                if w==w[::-1]:\n",
    "                    i+=1\n",
    "                elif max(dic.get(w, 0), dic.get(w[::-1], 0))>0:\n",
    "                    i+=1\n",
    "                else:\n",
    "                    return False\n",
    "            return True"
   ]
  },
  {
   "cell_type": "code",
   "execution_count": null,
   "metadata": {
    "collapsed": true
   },
   "outputs": [],
   "source": [
    "'''\n",
    "#884. Uncommon Words from Two Sentences\n",
    "DescriptionHintsSubmissionsDiscussSolution\n",
    "We are given two sentences A and B.  (A sentence is a string of space separated words.  \n",
    "Each word consists only of lowercase letters.)\n",
    "\n",
    "A word is uncommon if it appears exactly once in one of the sentences, and does not appear in the other sentence.\n",
    "Return a list of all uncommon words. \n",
    "You may return the list in any order.\n",
    "'''"
   ]
  },
  {
   "cell_type": "code",
   "execution_count": 20,
   "metadata": {
    "collapsed": true
   },
   "outputs": [],
   "source": [
    "class Solution:\n",
    "    def uncommonFromSentences(self, A, B):\n",
    "        \"\"\"\n",
    "        :type A: str\n",
    "        :type B: str\n",
    "        :rtype: List[str]\n",
    "        \"\"\"\n",
    "        dic={}\n",
    "        for i in A.split():\n",
    "            dic[i]=1 if i not in dic else dic[i]+1\n",
    "        for j in B.split():            \n",
    "            dic[j]=1 if j not in dic else dic[j]+1\n",
    "        return [m for m, n in dic.items() if n==1]"
   ]
  },
  {
   "cell_type": "code",
   "execution_count": 22,
   "metadata": {},
   "outputs": [
    {
     "data": {
      "text/plain": [
       "['sweet', 'sour']"
      ]
     },
     "execution_count": 22,
     "metadata": {},
     "output_type": "execute_result"
    }
   ],
   "source": [
    "Solution().uncommonFromSentences(A=\"this apple is sweet\", B=\"this apple is sour\")"
   ]
  },
  {
   "cell_type": "code",
   "execution_count": 23,
   "metadata": {},
   "outputs": [
    {
     "data": {
      "text/plain": [
       "['banana']"
      ]
     },
     "execution_count": 23,
     "metadata": {},
     "output_type": "execute_result"
    }
   ],
   "source": [
    "Solution().uncommonFromSentences(\"apple apple\", \"banana\")"
   ]
  },
  {
   "cell_type": "code",
   "execution_count": null,
   "metadata": {
    "collapsed": true
   },
   "outputs": [],
   "source": []
  }
 ],
 "metadata": {
  "kernelspec": {
   "display_name": "Python 3",
   "language": "python",
   "name": "python3"
  },
  "language_info": {
   "codemirror_mode": {
    "name": "ipython",
    "version": 3
   },
   "file_extension": ".py",
   "mimetype": "text/x-python",
   "name": "python",
   "nbconvert_exporter": "python",
   "pygments_lexer": "ipython3",
   "version": "3.6.3"
  }
 },
 "nbformat": 4,
 "nbformat_minor": 2
}
